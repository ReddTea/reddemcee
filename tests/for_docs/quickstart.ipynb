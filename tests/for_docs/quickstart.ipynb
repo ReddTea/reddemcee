{
 "cells": [
  {
   "cell_type": "code",
   "execution_count": 2,
   "id": "7c1b0bf6",
   "metadata": {
    "ExecuteTime": {
     "end_time": "2024-08-22T16:14:16.636174Z",
     "start_time": "2024-08-22T16:14:16.626286Z"
    }
   },
   "outputs": [],
   "source": [
    "from IPython.display import Image, display"
   ]
  },
  {
   "cell_type": "markdown",
   "id": "76aa6ab4",
   "metadata": {},
   "source": [
    "# Quickstart\n",
    "\n",
    "We will start with a simple 2D gaussian shell evaluation:\n",
    "- Widely used in the literature (vg, dynesty and multinest papers, as well as Vousden and Lartillot&Philippe 2009)\n",
    "- It is analytically tractable."
   ]
  },
  {
   "cell_type": "markdown",
   "id": "9cc93e92",
   "metadata": {},
   "source": [
    "## 2D Gaussian Shell\n",
    "The likelihood is given by:\n",
    "\n",
    "$$ p(\\vec{\\theta}) = \\sum_{i=1}^n \\frac{1}{\\sqrt{2\\pi w^2}} \\exp{\\left( -\\frac{(|\\vec{\\theta} - \\vec{c_i}| - r)^2}{2w^2} \\right)} $$\n",
    "\n",
    "where $n$ are the number of dimensions, $r$ corresponds to the radius, $w$ the width and $\\vec{c_i}$ to the constant vectors describing the centre of the peaks."
   ]
  },
  {
   "cell_type": "markdown",
   "id": "e893fd5a",
   "metadata": {},
   "source": [
    "The likelihood looks like this:\n",
    "<div>\n",
    "<img src=\"../../docs/img/2dglike.png\" width=\"400\"/>\n",
    "</div>"
   ]
  },
  {
   "cell_type": "markdown",
   "id": "4206a7d9",
   "metadata": {},
   "source": [
    "## Constants\n",
    "In the following section we will define the relevant constants to the problem\n",
    "\n",
    "```python\n",
    "import numpy as np\n",
    "import reddemcee\n",
    "\n",
    "ndim_ = 2  # n dimensions\n",
    "r_ = 2.  # radius\n",
    "w_ = 0.1  # width\n",
    "hard_limit = 6  # hard search boundary\n",
    "\n",
    "limits_ = [-hard_limit,  hard_limit]\n",
    "c1_ = np.zeros(ndim_)\n",
    "c1_[0] = -3.5\n",
    "c2_ = np.zeros(ndim_)\n",
    "c2_[0] = 3.5\n",
    "const_ = np.log(1. / np.sqrt(2. * np.pi * w_**2))  # normalization constant\n",
    "```"
   ]
  },
  {
   "cell_type": "markdown",
   "id": "14a6b28d",
   "metadata": {},
   "source": [
    "## Probability functions\n",
    "Reddemcee needs the likelihood and prior separately, so we will define these functions:"
   ]
  },
  {
   "cell_type": "code",
   "execution_count": 3,
   "id": "bb0483fa",
   "metadata": {
    "ExecuteTime": {
     "end_time": "2024-08-22T16:18:01.117595Z",
     "start_time": "2024-08-22T16:18:01.109627Z"
    }
   },
   "outputs": [],
   "source": [
    "def logcirc(theta, c):\n",
    "    # log-likelihood of a single shell\n",
    "    d = np.sqrt(np.sum((theta - c)**2, axis=-1))  # |theta - c|\n",
    "    return const_ - (d - r_)**2 / (2. * w_**2)\n",
    "\n",
    "\n",
    "def loglike(theta):\n",
    "    # log-likelihood of two shells\n",
    "    return np.logaddexp(logcirc(theta, c1_), logcirc(theta, c2_))\n",
    "\n",
    "\n",
    "def logprior(theta):\n",
    "    # prior for our parameters\n",
    "    lp = 0.\n",
    "    for i in range(ndim_):\n",
    "        if  theta[i] <= limits_[0] or limits_[1] <= theta[i]:\n",
    "            return -np.inf\n",
    "    return lp"
   ]
  },
  {
   "cell_type": "markdown",
   "id": "07b3d9ff",
   "metadata": {},
   "source": [
    "### Setup\n",
    "Here we will config the \n",
    "setup = [4, 100, 200, 2]\n",
    "ntemps, nwalkers, nsweeps, nsteps = setup\n",
    "p0 = list(np.random.uniform(limits_[0], limits_[1], [ntemps, nwalkers, ndim_]))\n",
    "```\n",
    "\n",
    "```python\n",
    "sampler = reddemcee.PTSampler(nwalkers, ndim_, loglike, logprior,\n",
    "                              ntemps=ntemps)\n",
    "    \n",
    "sampler.run_mcmc(p0, nsweeps, nsteps, progress=True)"
   ]
  },
  {
   "cell_type": "code",
   "execution_count": null,
   "id": "49fadbe1",
   "metadata": {},
   "outputs": [],
   "source": []
  },
  {
   "cell_type": "markdown",
   "id": "2574ba5f",
   "metadata": {},
   "source": [
    "### Initiating the sampler"
   ]
  },
  {
   "cell_type": "code",
   "execution_count": null,
   "id": "95d36d3f",
   "metadata": {},
   "outputs": [],
   "source": []
  },
  {
   "cell_type": "code",
   "execution_count": null,
   "id": "3a9ee89f",
   "metadata": {},
   "outputs": [],
   "source": []
  }
 ],
 "metadata": {
  "kernelspec": {
   "display_name": "Python 3 (ipykernel)",
   "language": "python",
   "name": "python3"
  },
  "language_info": {
   "codemirror_mode": {
    "name": "ipython",
    "version": 3
   },
   "file_extension": ".py",
   "mimetype": "text/x-python",
   "name": "python",
   "nbconvert_exporter": "python",
   "pygments_lexer": "ipython3",
   "version": "3.9.13"
  }
 },
 "nbformat": 4,
 "nbformat_minor": 5
}
