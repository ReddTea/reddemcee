{
 "cells": [
  {
   "cell_type": "code",
   "execution_count": 1,
   "id": "0cfbab5c",
   "metadata": {
    "ExecuteTime": {
     "end_time": "2024-08-22T14:35:28.426671Z",
     "start_time": "2024-08-22T14:35:28.198257Z"
    }
   },
   "outputs": [],
   "source": [
    "import numpy as np\n",
    "import reddemcee"
   ]
  },
  {
   "cell_type": "code",
   "execution_count": 2,
   "id": "da9c1dfc",
   "metadata": {
    "ExecuteTime": {
     "end_time": "2024-08-22T14:35:38.818065Z",
     "start_time": "2024-08-22T14:35:38.815444Z"
    }
   },
   "outputs": [],
   "source": [
    "def log_like(x, ivar):\n",
    "    return -0.5 * np.sum(ivar * x ** 2)\n",
    "\n",
    "def log_prior(x):\n",
    "    return 0.0"
   ]
  },
  {
   "cell_type": "code",
   "execution_count": null,
   "id": "1115a29d",
   "metadata": {},
   "outputs": [],
   "source": [
    "ivar = 1. / np.random.rand(ndim)\n",
    "p0 = list(np.random.randn(ntemps, nwalkers, ndim))"
   ]
  }
 ],
 "metadata": {
  "kernelspec": {
   "display_name": "Python 3 (ipykernel)",
   "language": "python",
   "name": "python3"
  },
  "language_info": {
   "codemirror_mode": {
    "name": "ipython",
    "version": 3
   },
   "file_extension": ".py",
   "mimetype": "text/x-python",
   "name": "python",
   "nbconvert_exporter": "python",
   "pygments_lexer": "ipython3",
   "version": "3.9.13"
  }
 },
 "nbformat": 4,
 "nbformat_minor": 5
}
