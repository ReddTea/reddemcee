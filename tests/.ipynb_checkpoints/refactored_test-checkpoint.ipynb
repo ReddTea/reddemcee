{
 "cells": [
  {
   "cell_type": "code",
   "execution_count": 9,
   "id": "b7900e60-b10c-473f-8783-abf0213e025a",
   "metadata": {},
   "outputs": [],
   "source": [
    "import numpy as np\n",
    "import reddemcee\n",
    "import math\n",
    "import time\n",
    "\n",
    "\n",
    "import matplotlib.pyplot as pl"
   ]
  },
  {
   "cell_type": "code",
   "execution_count": null,
   "id": "a3e05387-8a06-4793-bfb6-d980f5f84651",
   "metadata": {},
   "outputs": [],
   "source": []
  },
  {
   "cell_type": "code",
   "execution_count": 10,
   "id": "4816a578-3dd1-4614-9cc1-51754916c95f",
   "metadata": {},
   "outputs": [],
   "source": [
    "# defining constants\n",
    "ndim_ = 2\n",
    "r_ = 2.  # radius\n",
    "w_ = 0.1  # width\n",
    "hard_limit = 6\n",
    "analytic_z = {2:-1.75, 3:-2.84, 5:-5.6736, 10:-14.59, 20:-36.09}\n",
    "\n",
    "if True:\n",
    "    limits = [-hard_limit,  hard_limit]\n",
    "    c1_ = np.zeros(ndim_)\n",
    "    c1_[0] = -3.5\n",
    "    c2_ = np.zeros(ndim_)\n",
    "    c2_[0] = 3.5\n",
    "    const_ = math.log(1. / math.sqrt(2. * math.pi * w_**2))  # normalization constant\n",
    "\n",
    "    # log-likelihood of a single shell\n",
    "    def logcirc(theta, c):\n",
    "        d = np.sqrt(np.sum((theta - c)**2, axis=-1))  # |theta - c|\n",
    "        return const_ - (d - r_)**2 / (2. * w_**2)\n",
    "\n",
    "    # log-likelihood of two shells\n",
    "    def loglike(theta):\n",
    "        return np.logaddexp(logcirc(theta, c1_), logcirc(theta, c2_))\n",
    "\n",
    "    # our prior transform\n",
    "    def prior_transform(x):\n",
    "        return (limits[1] - limits[0]) * x - limits[1]\n",
    "\n",
    "    def reddprior(theta):\n",
    "        lp = 0.\n",
    "        for i in range(ndim_):\n",
    "            if  theta[i] <= limits[0] or limits[1] <= theta[i]:\n",
    "                return -np.inf\n",
    "            else:\n",
    "                lp += 1/(limits[1] - limits[0])\n",
    "                #lp += 1/(limits[1] - limits[0])\n",
    "        return np.log(lp)"
   ]
  },
  {
   "cell_type": "code",
   "execution_count": 11,
   "id": "43b29a13-0a59-42a5-9ce7-0f2791070850",
   "metadata": {},
   "outputs": [],
   "source": [
    "ntemps_ = 12\n",
    "nwalkers_ = 200\n",
    "setup = np.array([ntemps_, nwalkers_, 1000, 2])"
   ]
  },
  {
   "cell_type": "code",
   "execution_count": 12,
   "id": "e6ac84a6-10dd-4e0d-88c1-807b0cebca7f",
   "metadata": {},
   "outputs": [
    {
     "name": "stderr",
     "output_type": "stream",
     "text": [
      "100%|████████████████████████████████████████████████████████████████| 4000/4000 [03:22<00:00, 19.77it/s]"
     ]
    },
    {
     "name": "stdout",
     "output_type": "stream",
     "text": [
      "Total time: 202.31975102424622 sec\n"
     ]
    },
    {
     "name": "stderr",
     "output_type": "stream",
     "text": [
      "\n"
     ]
    }
   ],
   "source": [
    "if True:\n",
    "    ntemps, nwalkers, nsweeps, nsteps = setup\n",
    "    p0 = list(np.random.uniform(limits[0], limits[1], [ntemps, nwalkers, ndim_]))\n",
    "    my_betas = np.linspace(1, 0, ntemps)\n",
    "\n",
    "    time_start = time.time()\n",
    "    #mypool = Pool(ncores_)\n",
    "    \n",
    "    sampler = reddemcee.PTSampler(nwalkers, ndim_,\n",
    "                                  loglike, reddprior, ntemps=ntemps,\n",
    "                                  #pool=mypool,\n",
    "                                  adaptative=True,\n",
    "                                  betas=my_betas,\n",
    "                                  #betas=np.array([1.00000000e+00, 6.39396482e-01, 3.95339709e-01, 2.51711228e-01,\n",
    "                                  #                 1.52989587e-01, 9.86033203e-02, 6.04822861e-02, 4.09715831e-02,\n",
    "                                  #                 2.54359686e-02, 1.49462952e-02, 8.92801860e-03, 5.00517725e-03,\n",
    "                                  #                 2.90971855e-03, 1.29839577e-03, 1.47444114e-12]),\n",
    "                                  )#False\n",
    "    \n",
    "    sampler.config_adaptation_halflife = 1000\n",
    "    sampler.config_adaptation_rate = 100/nwalkers\n",
    "    sampler.run_mcmc(p0, nsweeps, nsteps)\n",
    "    \n",
    "    time_end = time.time()\n",
    "    tot_time = time_end-time_start\n",
    "    print(f'Total time: {tot_time} sec')"
   ]
  },
  {
   "cell_type": "code",
   "execution_count": 15,
   "id": "0ed18487-260b-46e1-a72a-8a73e6835d2f",
   "metadata": {},
   "outputs": [
    {
     "name": "stdout",
     "output_type": "stream",
     "text": [
      "beta[-1] == 0\n"
     ]
    },
    {
     "ename": "ValueError",
     "evalue": "operands could not be broadcast together with shapes (1,11) (12,199) ",
     "output_type": "error",
     "traceback": [
      "\u001b[0;31m---------------------------------------------------------------------------\u001b[0m",
      "\u001b[0;31mValueError\u001b[0m                                Traceback (most recent call last)",
      "File \u001b[0;32m~/anaconda3/envs/py310/lib/python3.10/site-packages/numpy/lib/function_base.py:4979\u001b[0m, in \u001b[0;36mtrapz\u001b[0;34m(y, x, dx, axis)\u001b[0m\n\u001b[1;32m   4978\u001b[0m \u001b[38;5;28;01mtry\u001b[39;00m:\n\u001b[0;32m-> 4979\u001b[0m     ret \u001b[38;5;241m=\u001b[39m (\u001b[43md\u001b[49m\u001b[43m \u001b[49m\u001b[38;5;241;43m*\u001b[39;49m\u001b[43m \u001b[49m\u001b[43m(\u001b[49m\u001b[43my\u001b[49m\u001b[43m[\u001b[49m\u001b[38;5;28;43mtuple\u001b[39;49m\u001b[43m(\u001b[49m\u001b[43mslice1\u001b[49m\u001b[43m)\u001b[49m\u001b[43m]\u001b[49m\u001b[43m \u001b[49m\u001b[38;5;241;43m+\u001b[39;49m\u001b[43m \u001b[49m\u001b[43my\u001b[49m\u001b[43m[\u001b[49m\u001b[38;5;28;43mtuple\u001b[39;49m\u001b[43m(\u001b[49m\u001b[43mslice2\u001b[49m\u001b[43m)\u001b[49m\u001b[43m]\u001b[49m\u001b[43m)\u001b[49m \u001b[38;5;241m/\u001b[39m \u001b[38;5;241m2.0\u001b[39m)\u001b[38;5;241m.\u001b[39msum(axis)\n\u001b[1;32m   4980\u001b[0m \u001b[38;5;28;01mexcept\u001b[39;00m \u001b[38;5;167;01mValueError\u001b[39;00m:\n\u001b[1;32m   4981\u001b[0m     \u001b[38;5;66;03m# Operations didn't work, cast to ndarray\u001b[39;00m\n",
      "\u001b[0;31mValueError\u001b[0m: operands could not be broadcast together with shapes (1,11) (12,199) ",
      "\nDuring handling of the above exception, another exception occurred:\n",
      "\u001b[0;31mValueError\u001b[0m                                Traceback (most recent call last)",
      "Cell \u001b[0;32mIn[15], line 2\u001b[0m\n\u001b[1;32m      1\u001b[0m discard0 \u001b[38;5;241m=\u001b[39m \u001b[38;5;241m500\u001b[39m\n\u001b[0;32m----> 2\u001b[0m \u001b[43msampler\u001b[49m\u001b[38;5;241;43m.\u001b[39;49m\u001b[43mthermodynamic_integration_classic\u001b[49m\u001b[43m(\u001b[49m\u001b[43msampler_dict\u001b[49m\u001b[43m \u001b[49m\u001b[38;5;241;43m=\u001b[39;49m\u001b[43m \u001b[49m\u001b[43m{\u001b[49m\u001b[38;5;124;43m'\u001b[39;49m\u001b[38;5;124;43mflat\u001b[39;49m\u001b[38;5;124;43m'\u001b[39;49m\u001b[43m:\u001b[49m\u001b[38;5;28;43;01mFalse\u001b[39;49;00m\u001b[43m,\u001b[49m\n\u001b[1;32m      3\u001b[0m \u001b[43m                                                          \u001b[49m\u001b[38;5;124;43m'\u001b[39;49m\u001b[38;5;124;43mdiscard\u001b[39;49m\u001b[38;5;124;43m'\u001b[39;49m\u001b[43m:\u001b[49m\u001b[43mdiscard0\u001b[49m\u001b[43m}\u001b[49m\u001b[43m)\u001b[49m\n",
      "File \u001b[0;32m/IronCrane/reddtea/pip_packages/reddemcee/src/reddemcee/sampler.py:287\u001b[0m, in \u001b[0;36mPTSampler.thermodynamic_integration_classic\u001b[0;34m(self, sampler_dict)\u001b[0m\n\u001b[1;32m    284\u001b[0m     logls1 \u001b[38;5;241m=\u001b[39m logls\n\u001b[1;32m    285\u001b[0m     logls2 \u001b[38;5;241m=\u001b[39m np\u001b[38;5;241m.\u001b[39mconcatenate((logls1[:\u001b[38;5;241m-\u001b[39m\u001b[38;5;241m1\u001b[39m:\u001b[38;5;241m2\u001b[39m], [logls1[\u001b[38;5;241m-\u001b[39m\u001b[38;5;241m1\u001b[39m]]))\n\u001b[0;32m--> 287\u001b[0m logZ1 \u001b[38;5;241m=\u001b[39m \u001b[38;5;241m-\u001b[39m\u001b[43mnp\u001b[49m\u001b[38;5;241;43m.\u001b[39;49m\u001b[43mtrapz\u001b[49m\u001b[43m(\u001b[49m\u001b[43mlogls1\u001b[49m\u001b[43m,\u001b[49m\u001b[43m \u001b[49m\u001b[43mbetas1\u001b[49m\u001b[43m)\u001b[49m\n\u001b[1;32m    288\u001b[0m logZ2 \u001b[38;5;241m=\u001b[39m \u001b[38;5;241m-\u001b[39mnp\u001b[38;5;241m.\u001b[39mtrapz(logls2, betas2)\n\u001b[1;32m    290\u001b[0m \u001b[38;5;28;01mreturn\u001b[39;00m logZ1, np\u001b[38;5;241m.\u001b[39mabs(logZ1 \u001b[38;5;241m-\u001b[39m logZ2)\n",
      "File \u001b[0;32m~/anaconda3/envs/py310/lib/python3.10/site-packages/numpy/lib/function_base.py:4984\u001b[0m, in \u001b[0;36mtrapz\u001b[0;34m(y, x, dx, axis)\u001b[0m\n\u001b[1;32m   4982\u001b[0m     d \u001b[38;5;241m=\u001b[39m np\u001b[38;5;241m.\u001b[39masarray(d)\n\u001b[1;32m   4983\u001b[0m     y \u001b[38;5;241m=\u001b[39m np\u001b[38;5;241m.\u001b[39masarray(y)\n\u001b[0;32m-> 4984\u001b[0m     ret \u001b[38;5;241m=\u001b[39m add\u001b[38;5;241m.\u001b[39mreduce(\u001b[43md\u001b[49m\u001b[43m \u001b[49m\u001b[38;5;241;43m*\u001b[39;49m\u001b[43m \u001b[49m\u001b[43m(\u001b[49m\u001b[43my\u001b[49m\u001b[43m[\u001b[49m\u001b[38;5;28;43mtuple\u001b[39;49m\u001b[43m(\u001b[49m\u001b[43mslice1\u001b[49m\u001b[43m)\u001b[49m\u001b[43m]\u001b[49m\u001b[38;5;241;43m+\u001b[39;49m\u001b[43my\u001b[49m\u001b[43m[\u001b[49m\u001b[38;5;28;43mtuple\u001b[39;49m\u001b[43m(\u001b[49m\u001b[43mslice2\u001b[49m\u001b[43m)\u001b[49m\u001b[43m]\u001b[49m\u001b[43m)\u001b[49m\u001b[38;5;241m/\u001b[39m\u001b[38;5;241m2.0\u001b[39m, axis)\n\u001b[1;32m   4985\u001b[0m \u001b[38;5;28;01mreturn\u001b[39;00m ret\n",
      "\u001b[0;31mValueError\u001b[0m: operands could not be broadcast together with shapes (1,11) (12,199) "
     ]
    }
   ],
   "source": [
    "discard0 = 500\n",
    "sampler.thermodynamic_integration_classic(sampler_dict = {'flat':False,\n",
    "                                                          'discard':discard0})"
   ]
  },
  {
   "cell_type": "code",
   "execution_count": null,
   "id": "71389db8-bcf0-45ce-8943-c4159b901dbc",
   "metadata": {},
   "outputs": [],
   "source": [
    "%debug"
   ]
  },
  {
   "cell_type": "code",
   "execution_count": 14,
   "id": "34f6d07e-5667-432e-87cb-d4d9562f8cb5",
   "metadata": {},
   "outputs": [
    {
     "ename": "AttributeError",
     "evalue": "'PTSampler' object has no attribute 'thermodynamic_integration_old'",
     "output_type": "error",
     "traceback": [
      "\u001b[0;31m---------------------------------------------------------------------------\u001b[0m",
      "\u001b[0;31mAttributeError\u001b[0m                            Traceback (most recent call last)",
      "Cell \u001b[0;32mIn[14], line 1\u001b[0m\n\u001b[0;32m----> 1\u001b[0m \u001b[43msampler\u001b[49m\u001b[38;5;241;43m.\u001b[39;49m\u001b[43mthermodynamic_integration\u001b[49m\u001b[43m(\u001b[49m\u001b[43mdiscard\u001b[49m\u001b[38;5;241;43m=\u001b[39;49m\u001b[43mdiscard0\u001b[49m\u001b[43m)\u001b[49m\n",
      "File \u001b[0;32m/IronCrane/reddtea/pip_packages/reddemcee/src/reddemcee/sampler.py:351\u001b[0m, in \u001b[0;36mPTSampler.thermodynamic_integration\u001b[0;34m(self, discard)\u001b[0m\n\u001b[1;32m    347\u001b[0m integral_trapz \u001b[38;5;241m=\u001b[39m np\u001b[38;5;241m.\u001b[39mtrapz(mean_interpolated, xnew)\n\u001b[1;32m    350\u001b[0m \u001b[38;5;66;03m#err_disc = (mean_interpolated[-1] - mean_interpolated[0]) / (2*num_grid)\u001b[39;00m\n\u001b[0;32m--> 351\u001b[0m z, zerr \u001b[38;5;241m=\u001b[39m \u001b[38;5;28;43mself\u001b[39;49m\u001b[38;5;241;43m.\u001b[39;49m\u001b[43mthermodynamic_integration_old\u001b[49m(coef\u001b[38;5;241m=\u001b[39m\u001b[38;5;241m1e8\u001b[39m,\n\u001b[1;32m    352\u001b[0m                                             sampler_dict\u001b[38;5;241m=\u001b[39msampler_dict)\n\u001b[1;32m    353\u001b[0m err_disc \u001b[38;5;241m=\u001b[39m \u001b[38;5;28mabs\u001b[39m(z \u001b[38;5;241m-\u001b[39m integral_trapz)\n\u001b[1;32m    355\u001b[0m err_samp \u001b[38;5;241m=\u001b[39m \u001b[38;5;241m1\u001b[39m\u001b[38;5;241m/\u001b[39mnum_grid\u001b[38;5;241m*\u001b[39m\u001b[38;5;241m*\u001b[39m\u001b[38;5;241m2\u001b[39m \u001b[38;5;241m*\u001b[39m (\u001b[38;5;241m1\u001b[39m\u001b[38;5;241m/\u001b[39m\u001b[38;5;241m4\u001b[39m\u001b[38;5;241m*\u001b[39mstd_interpolated[\u001b[38;5;241m0\u001b[39m]\u001b[38;5;241m*\u001b[39m\u001b[38;5;241m*\u001b[39m\u001b[38;5;241m2\u001b[39m \u001b[38;5;241m+\u001b[39m\n\u001b[1;32m    356\u001b[0m                             np\u001b[38;5;241m.\u001b[39msum(std_interpolated[\u001b[38;5;241m1\u001b[39m:\u001b[38;5;241m-\u001b[39m\u001b[38;5;241m1\u001b[39m]\u001b[38;5;241m*\u001b[39m\u001b[38;5;241m*\u001b[39m\u001b[38;5;241m2\u001b[39m) \u001b[38;5;241m+\u001b[39m\n\u001b[1;32m    357\u001b[0m                             \u001b[38;5;241m1\u001b[39m\u001b[38;5;241m/\u001b[39m\u001b[38;5;241m4\u001b[39m\u001b[38;5;241m*\u001b[39mstd_interpolated[\u001b[38;5;241m-\u001b[39m\u001b[38;5;241m1\u001b[39m]\u001b[38;5;241m*\u001b[39m\u001b[38;5;241m*\u001b[39m\u001b[38;5;241m2\u001b[39m)\n",
      "\u001b[0;31mAttributeError\u001b[0m: 'PTSampler' object has no attribute 'thermodynamic_integration_old'"
     ]
    }
   ],
   "source": [
    "sampler.thermodynamic_integration(discard=discard0)"
   ]
  },
  {
   "cell_type": "code",
   "execution_count": null,
   "id": "e63ddc05-1dd0-44f4-896a-d05b6bf48fb4",
   "metadata": {},
   "outputs": [],
   "source": [
    "bh = sampler.sampler.betas_history\n",
    "rh = sampler.sampler.ratios_history\n",
    "\n",
    "fig, axes = pl.subplots(2, 1, figsize=(9, 5), sharex=True)\n",
    "\n",
    "bh1 = bh.reshape((setup[2], setup[0]))\n",
    "rh1 = rh.reshape((setup[2], setup[0]-1))\n",
    "\n",
    "for i in range(setup[0]-2):\n",
    "        bh_sel = bh1[:, i]\n",
    "        b = 1/np.array(bh_sel)\n",
    "        axes[0].plot(np.arange(setup[2])*setup[3], b)\n",
    "        axes[0].set_xscale('log')\n",
    "        axes[0].set_yscale('log')\n",
    "\n",
    "        \n",
    "for i in np.arange(setup[0]-1):\n",
    "    r = rh1[:, i]\n",
    "    axes[1].plot(np.arange(setup[2])*setup[3], r, alpha=0.5)\n",
    "            \n",
    "if True:\n",
    "    axes[1].set_xlabel(\"N Step\")\n",
    "    axes[0].set_ylabel(r\"$\\beta^{-1}$\")\n",
    "    axes[1].set_ylabel(r\"$a_{frac}$\")\n",
    "        \n",
    "pl.tight_layout()"
   ]
  }
 ],
 "metadata": {
  "kernelspec": {
   "display_name": "Python 3 (ipykernel)",
   "language": "python",
   "name": "python3"
  },
  "language_info": {
   "codemirror_mode": {
    "name": "ipython",
    "version": 3
   },
   "file_extension": ".py",
   "mimetype": "text/x-python",
   "name": "python",
   "nbconvert_exporter": "python",
   "pygments_lexer": "ipython3",
   "version": "3.10.14"
  }
 },
 "nbformat": 4,
 "nbformat_minor": 5
}
