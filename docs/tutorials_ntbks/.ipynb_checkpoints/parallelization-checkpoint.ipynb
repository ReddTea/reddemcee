{
 "cells": [
  {
   "cell_type": "code",
   "execution_count": 1,
   "id": "904c22da-ec6a-4b8b-b0e5-832d0bb2233e",
   "metadata": {},
   "outputs": [],
   "source": [
    "from IPython.display import Image, display\n",
    "import numpy as np\n",
    "import reddemcee\n",
    "np.random.seed(1234)"
   ]
  },
  {
   "cell_type": "markdown",
   "id": "c2cc3f58-b9fe-461b-a3fc-70f2e8ba7830",
   "metadata": {},
   "source": [
    "# Parallelization\n",
    "You can parallelize the sampler by using a pool, multiprocessing is recommended, but multiprocess and schwimmbad were tested as well."
   ]
  },
  {
   "cell_type": "code",
   "execution_count": 2,
   "id": "9a1962fe-aebe-47f3-bcca-9d70b815105a",
   "metadata": {},
   "outputs": [],
   "source": [
    "import multiprocessing as mp"
   ]
  },
  {
   "cell_type": "markdown",
   "id": "e8a574fa-cd7f-408c-81b6-b944c1653b32",
   "metadata": {},
   "source": [
    "You can check how many threads you have available by using:"
   ]
  },
  {
   "cell_type": "code",
   "execution_count": 3,
   "id": "85eb9c51-3866-4a4c-8ab6-6fd2a9b496a9",
   "metadata": {},
   "outputs": [
    {
     "data": {
      "text/plain": [
       "24"
      ]
     },
     "execution_count": 3,
     "metadata": {},
     "output_type": "execute_result"
    }
   ],
   "source": [
    "mp.cpu_count()"
   ]
  },
  {
   "cell_type": "markdown",
   "id": "9709a29f-9a19-4f92-8942-196564342d66",
   "metadata": {},
   "source": [
    "We will build a likelihood that holds each thread for a set amount of time:"
   ]
  },
  {
   "cell_type": "code",
   "execution_count": 12,
   "id": "b5ac55e2-b84e-4c11-a7bc-f701c2b0f8de",
   "metadata": {},
   "outputs": [],
   "source": [
    "import time\n",
    "\n",
    "def loglike(theta):\n",
    "    t = time.time() + np.random.uniform(0.005, 0.008)\n",
    "    while True:\n",
    "        if time.time() >= t:\n",
    "            break\n",
    "    return -0.5 * np.sum(theta**2)\n",
    "\n",
    "def logprior(theta):\n",
    "    return 0."
   ]
  },
  {
   "cell_type": "markdown",
   "id": "552f716e-6285-46a6-8ac6-7ee663217718",
   "metadata": {},
   "source": [
    "## Serial\n",
    "This likelihood function will sleep for a random second fraction when called. We start by evaluating the performance in a serial initialization of the sampler:"
   ]
  },
  {
   "cell_type": "code",
   "execution_count": 13,
   "id": "d6c7ea7f-b10d-417f-99c0-dda283c61042",
   "metadata": {},
   "outputs": [],
   "source": [
    "ndim_ = 2\n",
    "\n",
    "setup = [3, 20, 50, 2]\n",
    "ntemps, nwalkers, nsweeps, nsteps = setup\n",
    "\n",
    "p0 = list(np.random.randn(ntemps, nwalkers, ndim_))"
   ]
  },
  {
   "cell_type": "code",
   "execution_count": null,
   "id": "c9311422-4ec8-4be6-8e19-278656daf369",
   "metadata": {},
   "outputs": [
    {
     "name": "stderr",
     "output_type": "stream",
     "text": [
      "  3%|▎            | 16/600 [00:27<16:08,  1.66s/it]"
     ]
    }
   ],
   "source": [
    "sampler = reddemcee.PTSampler(nwalkers, ndim_,\n",
    "                              loglike, logprior,\n",
    "                              ntemps=ntemps,\n",
    "                              )\n",
    "\n",
    "sampler.run_mcmc(p0, nsweeps, nsteps)"
   ]
  },
  {
   "cell_type": "code",
   "execution_count": null,
   "id": "36ea315b-dd17-40b5-aee3-7de1470bade4",
   "metadata": {},
   "outputs": [],
   "source": [
    "\n",
    "sampler = emcee.EnsembleSampler(nwalkers, ndim, log_prob)\n",
    "start = time.time()\n",
    "sampler.run_mcmc(initial, nsteps, progress=True)\n",
    "end = time.time()\n",
    "serial_time = end - start\n",
    "print(\"Serial took {0:.1f} seconds\".format(serial_time))"
   ]
  },
  {
   "cell_type": "code",
   "execution_count": null,
   "id": "e6f7b41b-8428-4a9d-86ec-06c4a825e377",
   "metadata": {},
   "outputs": [],
   "source": [
    "with Pool(10) as mypool:\n",
    "    sampler = reddemcee.PTSampler(nwalkers, ndim_,\n",
    "                                  loglike, logprior,\n",
    "                                  ntemps=ntemps,\n",
    "                                  pool=mypool)\n",
    "\n",
    "    sampler.run_mcmc(p0, nsweeps, nsteps)"
   ]
  }
 ],
 "metadata": {
  "kernelspec": {
   "display_name": "Python 3 (ipykernel)",
   "language": "python",
   "name": "python3"
  },
  "language_info": {
   "codemirror_mode": {
    "name": "ipython",
    "version": 3
   },
   "file_extension": ".py",
   "mimetype": "text/x-python",
   "name": "python",
   "nbconvert_exporter": "python",
   "pygments_lexer": "ipython3",
   "version": "3.12.4"
  }
 },
 "nbformat": 4,
 "nbformat_minor": 5
}
